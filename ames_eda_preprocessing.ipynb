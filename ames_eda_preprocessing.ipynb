{
 "cells": [
  {
   "cell_type": "code",
   "execution_count": 1,
   "metadata": {},
   "outputs": [],
   "source": [
    "import pandas as pd\n",
    "import matplotlib.pyplot as plt\n",
    "import seaborn as sns\n",
    "import numpy as np\n",
    "from scipy.stats import norm\n",
    "from sklearn.preprocessing import StandardScaler\n",
    "from scipy import stats\n",
    "import warnings\n",
    "warnings.filterwarnings('ignore')\n",
    "%matplotlib inline"
   ]
  },
  {
   "cell_type": "code",
   "execution_count": 2,
   "metadata": {},
   "outputs": [],
   "source": [
    "train = pd.read_csv('./data/train.csv')\n"
   ]
  },
  {
   "cell_type": "code",
   "execution_count": 3,
   "metadata": {},
   "outputs": [],
   "source": [
    "train1 = train.copy()"
   ]
  },
  {
   "cell_type": "code",
   "execution_count": 4,
   "metadata": {},
   "outputs": [],
   "source": [
    "# train.head()"
   ]
  },
  {
   "cell_type": "code",
   "execution_count": 5,
   "metadata": {},
   "outputs": [],
   "source": [
    "# train.sample(5)"
   ]
  },
  {
   "cell_type": "code",
   "execution_count": 6,
   "metadata": {},
   "outputs": [
    {
     "name": "stdout",
     "output_type": "stream",
     "text": [
      "<class 'pandas.core.frame.DataFrame'>\n",
      "RangeIndex: 1460 entries, 0 to 1459\n",
      "Data columns (total 81 columns):\n",
      "Id               1460 non-null int64\n",
      "MSSubClass       1460 non-null int64\n",
      "MSZoning         1460 non-null object\n",
      "LotFrontage      1201 non-null float64\n",
      "LotArea          1460 non-null int64\n",
      "Street           1460 non-null object\n",
      "Alley            91 non-null object\n",
      "LotShape         1460 non-null object\n",
      "LandContour      1460 non-null object\n",
      "Utilities        1460 non-null object\n",
      "LotConfig        1460 non-null object\n",
      "LandSlope        1460 non-null object\n",
      "Neighborhood     1460 non-null object\n",
      "Condition1       1460 non-null object\n",
      "Condition2       1460 non-null object\n",
      "BldgType         1460 non-null object\n",
      "HouseStyle       1460 non-null object\n",
      "OverallQual      1460 non-null int64\n",
      "OverallCond      1460 non-null int64\n",
      "YearBuilt        1460 non-null int64\n",
      "YearRemodAdd     1460 non-null int64\n",
      "RoofStyle        1460 non-null object\n",
      "RoofMatl         1460 non-null object\n",
      "Exterior1st      1460 non-null object\n",
      "Exterior2nd      1460 non-null object\n",
      "MasVnrType       1452 non-null object\n",
      "MasVnrArea       1452 non-null float64\n",
      "ExterQual        1460 non-null object\n",
      "ExterCond        1460 non-null object\n",
      "Foundation       1460 non-null object\n",
      "BsmtQual         1423 non-null object\n",
      "BsmtCond         1423 non-null object\n",
      "BsmtExposure     1422 non-null object\n",
      "BsmtFinType1     1423 non-null object\n",
      "BsmtFinSF1       1460 non-null int64\n",
      "BsmtFinType2     1422 non-null object\n",
      "BsmtFinSF2       1460 non-null int64\n",
      "BsmtUnfSF        1460 non-null int64\n",
      "TotalBsmtSF      1460 non-null int64\n",
      "Heating          1460 non-null object\n",
      "HeatingQC        1460 non-null object\n",
      "CentralAir       1460 non-null object\n",
      "Electrical       1459 non-null object\n",
      "1stFlrSF         1460 non-null int64\n",
      "2ndFlrSF         1460 non-null int64\n",
      "LowQualFinSF     1460 non-null int64\n",
      "GrLivArea        1460 non-null int64\n",
      "BsmtFullBath     1460 non-null int64\n",
      "BsmtHalfBath     1460 non-null int64\n",
      "FullBath         1460 non-null int64\n",
      "HalfBath         1460 non-null int64\n",
      "BedroomAbvGr     1460 non-null int64\n",
      "KitchenAbvGr     1460 non-null int64\n",
      "KitchenQual      1460 non-null object\n",
      "TotRmsAbvGrd     1460 non-null int64\n",
      "Functional       1460 non-null object\n",
      "Fireplaces       1460 non-null int64\n",
      "FireplaceQu      770 non-null object\n",
      "GarageType       1379 non-null object\n",
      "GarageYrBlt      1379 non-null float64\n",
      "GarageFinish     1379 non-null object\n",
      "GarageCars       1460 non-null int64\n",
      "GarageArea       1460 non-null int64\n",
      "GarageQual       1379 non-null object\n",
      "GarageCond       1379 non-null object\n",
      "PavedDrive       1460 non-null object\n",
      "WoodDeckSF       1460 non-null int64\n",
      "OpenPorchSF      1460 non-null int64\n",
      "EnclosedPorch    1460 non-null int64\n",
      "3SsnPorch        1460 non-null int64\n",
      "ScreenPorch      1460 non-null int64\n",
      "PoolArea         1460 non-null int64\n",
      "PoolQC           7 non-null object\n",
      "Fence            281 non-null object\n",
      "MiscFeature      54 non-null object\n",
      "MiscVal          1460 non-null int64\n",
      "MoSold           1460 non-null int64\n",
      "YrSold           1460 non-null int64\n",
      "SaleType         1460 non-null object\n",
      "SaleCondition    1460 non-null object\n",
      "SalePrice        1460 non-null int64\n",
      "dtypes: float64(3), int64(35), object(43)\n",
      "memory usage: 924.0+ KB\n"
     ]
    }
   ],
   "source": [
    "train.info()"
   ]
  },
  {
   "cell_type": "code",
   "execution_count": 7,
   "metadata": {},
   "outputs": [
    {
     "data": {
      "text/plain": [
       "LotFrontage      259\n",
       "Alley           1369\n",
       "MasVnrType         8\n",
       "MasVnrArea         8\n",
       "BsmtQual          37\n",
       "BsmtCond          37\n",
       "BsmtExposure      38\n",
       "BsmtFinType1      37\n",
       "BsmtFinType2      38\n",
       "Electrical         1\n",
       "FireplaceQu      690\n",
       "GarageType        81\n",
       "GarageYrBlt       81\n",
       "GarageFinish      81\n",
       "GarageQual        81\n",
       "GarageCond        81\n",
       "PoolQC          1453\n",
       "Fence           1179\n",
       "MiscFeature     1406\n",
       "dtype: int64"
      ]
     },
     "execution_count": 7,
     "metadata": {},
     "output_type": "execute_result"
    }
   ],
   "source": [
    "train.isnull().sum(axis = 0)[train.isnull().sum(axis = 0) > 0]"
   ]
  },
  {
   "cell_type": "code",
   "execution_count": 8,
   "metadata": {},
   "outputs": [],
   "source": [
    "#train.dtypes"
   ]
  },
  {
   "cell_type": "code",
   "execution_count": 9,
   "metadata": {},
   "outputs": [],
   "source": [
    "#train.dtypes[train.dtypes == \"object\"]"
   ]
  },
  {
   "cell_type": "code",
   "execution_count": 10,
   "metadata": {},
   "outputs": [],
   "source": [
    "# train = train1.copy()\n",
    "train = train.drop('MiscFeature', axis = 1)\n",
    "train2 = train.copy()"
   ]
  },
  {
   "cell_type": "code",
   "execution_count": 11,
   "metadata": {},
   "outputs": [],
   "source": [
    "# train = train2.copy()"
   ]
  },
  {
   "cell_type": "code",
   "execution_count": 12,
   "metadata": {},
   "outputs": [],
   "source": [
    "train['MasVnrArea'] = train['MasVnrArea'].interpolate(method='linear', axis = 0)\n",
    "train['GarageYrBlt'] = train['GarageYrBlt'].interpolate(method='linear', axis = 0)"
   ]
  },
  {
   "cell_type": "markdown",
   "metadata": {},
   "source": [
    "### Distribution of SalePrice"
   ]
  },
  {
   "cell_type": "code",
   "execution_count": 13,
   "metadata": {},
   "outputs": [
    {
     "data": {
      "text/plain": [
       "Text(0.5, 0, 'Sale Price')"
      ]
     },
     "execution_count": 13,
     "metadata": {},
     "output_type": "execute_result"
    },
    {
     "data": {
      "image/png": "[encoded data removed]",
      "text/plain": [
       "<Figure size 432x288 with 1 Axes>"
      ]
     },
     "metadata": {
      "needs_background": "light"
     },
     "output_type": "display_data"
    }
   ],
   "source": [
    "train['SalePrice'].plot.hist(stacked = False, bins = 30, color = 'b')\n",
    "plt.xlabel('Sale Price')"
   ]
  },
  {
   "cell_type": "code",
   "execution_count": 14,
   "metadata": {},
   "outputs": [
    {
     "data": {
      "text/plain": [
       "Text(0.5, 0, 'Log(Sale Price)')"
      ]
     },
     "execution_count": 14,
     "metadata": {},
     "output_type": "execute_result"
    },
    {
     "data": {
      "image/png": "[encoded data removed]",
      "text/plain": [
       "<Figure size 432x288 with 1 Axes>"
      ]
     },
     "metadata": {
      "needs_background": "light"
     },
     "output_type": "display_data"
    }
   ],
   "source": [
    "np.log(train['SalePrice']).plot.hist(stacked = False, bins = 30, color = 'b')\n",
    "plt.xlabel('Log(Sale Price)')"
   ]
  },
  {
   "cell_type": "markdown",
   "metadata": {},
   "source": [
    "#### Dividing in Numeric, Ordinal and Nominal"
   ]
  },
  {
   "cell_type": "code",
   "execution_count": 15,
   "metadata": {},
   "outputs": [],
   "source": [
    "numeric_col = ['Id', 'LotFrontage', 'LotArea', 'YearBuilt', 'YearRemodAdd', 'MasVnrArea', 'BsmtFinSF1', 'BsmtFinSF2', \n",
    "               'BsmtUnfSF', 'TotalBsmtSF', '1stFlrSF', '2ndFlrSF', 'LowQualFinSF', 'GrLivArea', 'BsmtFullBath', \n",
    "               'BsmtHalfBath', 'FullBath', 'HalfBath', 'BedroomAbvGr', 'KitchenAbvGr', 'TotRmsAbvGrd', 'Fireplaces', \n",
    "               'GarageYrBlt', 'GarageCars', 'GarageArea', 'WoodDeckSF', 'OpenPorchSF', 'EnclosedPorch', '3SsnPorch', \n",
    "               'ScreenPorch', 'PoolArea', 'MiscVal', 'MoSold', 'YrSold', 'SalePrice']\n",
    "ordinal_col = ['LotShape', 'Utilities', 'LandSlope', 'OverallQual', 'OverallCond', 'ExterQual', 'ExterCond', 'BsmtQual',\n",
    "                'BsmtCond', 'BsmtExposure', 'BsmtFinType1', 'BsmtFinType2', 'HeatingQC', 'Electrical', 'KitchenQual',\n",
    "                'Functional', 'FireplaceQu', 'GarageFinish', 'GarageQual', 'GarageCond', 'PoolQC', 'Fence']\n",
    "nominal_col = ['MSSubClass', 'MSZoning', 'Street', 'Alley', 'LandContour', 'LotConfig', 'Neighborhood', 'Condition1',\n",
    "            'Condition2', 'BldgType', 'HouseStyle', 'RoofStyle', 'RoofMatl', 'Exterior1st', 'Exterior2nd', 'MasVnrType',\n",
    "            'Foundation', 'Heating', 'CentralAir', 'GarageType', 'PavedDrive' 'MiscFeature', 'SaleType', 'SaleCondition']"
   ]
  },
  {
   "cell_type": "markdown",
   "metadata": {},
   "source": [
    "#### Replacing values in ordinal variables by integers as per order"
   ]
  },
  {
   "cell_type": "code",
   "execution_count": 16,
   "metadata": {},
   "outputs": [],
   "source": [
    "train.BsmtCond = train.BsmtCond.replace({\"Ex\": 5, 'Gd': 4, 'TA': 3, 'Fa': 2, 'Po': 1})\n",
    "train.BsmtCond = train.BsmtCond.fillna(0)\n",
    "train.BsmtExposure = train.BsmtExposure.replace({'Gd': 4, 'Av': 3, 'Mn': 2, 'No': 1})\n",
    "train.BsmtExposure = train.BsmtExposure.fillna(0)\n",
    "train.BsmtFinType1 = train.BsmtFinType1.replace({'GLQ': 6, 'ALQ': 5, 'BLQ': 4, 'Rec': 3, 'LwQ': 2, 'Unf': 1})\n",
    "train.BsmtFinType1 = train.BsmtFinType1.fillna(0)\n",
    "train.BsmtFinType2 = train.BsmtFinType2.replace({'GLQ': 6, 'ALQ': 5, 'BLQ': 4, 'Rec': 3, 'LwQ': 2, 'Unf': 1})\n",
    "train.BsmtFinType2 = train.BsmtFinType2.fillna(0)\n",
    "train.BsmtQual = train.BsmtQual.replace({'Ex': 5, 'Gd': 4, 'TA': 3, 'Fa': 2, 'Po': 1})\n",
    "train.BsmtQual = train.BsmtQual.fillna(0)\n",
    "train.Electrical = train.Electrical.replace({'SBrkr': 4, 'FuseA': 3, 'FuseF': 2, 'FuseP': 1, 'Mix': 0})\n",
    "train.ExterCond = train.ExterCond.replace({'Ex': 5, 'Gd': 4, 'TA': 3, 'Fa': 2, 'Po': 1})\n",
    "train.ExterCond = train.ExterCond.fillna(0)\n",
    "train.ExterQual = train.ExterQual.replace({'Ex': 5, 'Gd': 4, 'TA': 3, 'Fa': 2, 'Po': 1})\n",
    "train.ExterQual = train.ExterQual.fillna(0)\n",
    "train.Fence = train.Fence.replace({'GdPrv': 4, 'MnPrv': 3, 'GdWo': 2, 'MnWw': 1})\n",
    "train.Fence = train.Fence.fillna(0)\n",
    "train.FireplaceQu = train.FireplaceQu.replace({'Ex': 5, 'Gd': 4, 'TA': 3, 'Fa': 2, 'Po': 1})\n",
    "train.FireplaceQu = train.FireplaceQu.fillna(0)\n",
    "train.Functional = train.Functional.replace({'Typ': 7, 'Min1': 6, 'Min2': 5, 'Mod': 4, 'Maj1': 3, 'Maj2': 2, 'Sev': 1, 'Sal': 0})\n",
    "train.GarageCond = train.GarageCond.replace({'Ex': 5, 'Gd': 4, 'TA': 3, 'Fa': 2, 'Po': 1})\n",
    "train.GarageCond = train.GarageCond.fillna(0)\n",
    "train.GarageFinish = train.GarageFinish.replace({'Fin': 3, 'RFn': 2, 'Unf': 1})\n",
    "train.GarageFinish = train.GarageFinish.fillna(0)\n",
    "train.GarageQual = train.GarageQual.replace({'Ex': 5, 'Gd': 4, 'TA': 3, 'Fa': 2, 'Po': 1})\n",
    "train.GarageQual = train.GarageQual.fillna(0)\n",
    "train.HeatingQC = train.HeatingQC.replace({'Ex': 5, 'Gd': 4, 'TA': 3, 'Fa': 2, 'Po': 1})\n",
    "train.HeatingQC = train.HeatingQC.fillna(0)\n",
    "train.KitchenQual = train.KitchenQual.replace({'Ex': 5, 'Gd': 4, 'TA': 3, 'Fa': 2, 'Po': 1})\n",
    "train.KitchenQual = train.KitchenQual.fillna(0)\n",
    "train.LandSlope = train.LandSlope.replace({'Gtl': 3, 'Mod': 2, 'Sev': 1})\n",
    "train.LandSlope = train.LandSlope.fillna(0)\n",
    "train.LotShape = train.LotShape.replace({'Reg': 4, 'IR1': 3, 'IR2': 2, 'IR3': 1})\n",
    "train.LotShape = train.LotShape.fillna(0)\n",
    "train.PoolQC = train.PoolQC.replace({'Ex': 4, 'Gd': 3, 'TA': 2, 'Fa': 1})\n",
    "train.PoolQC = train.PoolQC.fillna(0)\n",
    "train.Utilities = train.Utilities.replace({'AllPub': 4, 'NoSewr': 3, 'NoSeWa': 2, ' ELO': 1})"
   ]
  },
  {
   "cell_type": "code",
   "execution_count": 17,
   "metadata": {},
   "outputs": [],
   "source": [
    "train3 = train.copy()\n",
    "#train = train3.copy"
   ]
  },
  {
   "cell_type": "code",
   "execution_count": 18,
   "metadata": {},
   "outputs": [],
   "source": [
    "threshold = 0.4"
   ]
  },
  {
   "cell_type": "markdown",
   "metadata": {},
   "source": [
    "### Analyzing Numeric Variables"
   ]
  },
  {
   "cell_type": "code",
   "execution_count": 19,
   "metadata": {},
   "outputs": [],
   "source": [
    "train_num_corr = train[numeric_col].corr(method = 'pearson')\n",
    "#train_num_corr"
   ]
  },
  {
   "cell_type": "code",
   "execution_count": 20,
   "metadata": {},
   "outputs": [],
   "source": [
    "#train[''].corr(method = 'pearson')"
   ]
  },
  {
   "cell_type": "code",
   "execution_count": 21,
   "metadata": {},
   "outputs": [],
   "source": [
    "# numeric variables that have correlation of more than 0.4 with Sales Price\n",
    "high_pearson = train_num_corr['SalePrice'][np.absolute(train_num_corr['SalePrice'])>= threshold]\n",
    "# high_pearson"
   ]
  },
  {
   "cell_type": "code",
   "execution_count": 22,
   "metadata": {},
   "outputs": [
    {
     "data": {
      "text/plain": [
       "array(['YearBuilt', 'YearRemodAdd', 'MasVnrArea', 'TotalBsmtSF',\n",
       "       '1stFlrSF', 'GrLivArea', 'FullBath', 'TotRmsAbvGrd', 'Fireplaces',\n",
       "       'GarageYrBlt', 'GarageCars', 'GarageArea'], dtype=object)"
      ]
     },
     "execution_count": 22,
     "metadata": {},
     "output_type": "execute_result"
    }
   ],
   "source": [
    "high_cor_num_col = high_pearson.index.values\n",
    "high_cor_num_col = np.delete(high_cor_num_col, -1)   # removing 'SalePrice'\n",
    "high_cor_num_col"
   ]
  },
  {
   "cell_type": "code",
   "execution_count": 23,
   "metadata": {},
   "outputs": [
    {
     "data": {
      "text/html": [
       "<div>\n",
       "<style scoped>\n",
       "    .dataframe tbody tr th:only-of-type {\n",
       "        vertical-align: middle;\n",
       "    }\n",
       "\n",
       "    .dataframe tbody tr th {\n",
       "        vertical-align: top;\n",
       "    }\n",
       "\n",
       "    .dataframe thead th {\n",
       "        text-align: right;\n",
       "    }\n",
       "</style>\n",
       "<table border=\"1\" class=\"dataframe\">\n",
       "  <thead>\n",
       "    <tr style=\"text-align: right;\">\n",
       "      <th></th>\n",
       "      <th>YearBuilt</th>\n",
       "      <th>YearRemodAdd</th>\n",
       "      <th>MasVnrArea</th>\n",
       "      <th>TotalBsmtSF</th>\n",
       "      <th>1stFlrSF</th>\n",
       "      <th>GrLivArea</th>\n",
       "      <th>FullBath</th>\n",
       "      <th>TotRmsAbvGrd</th>\n",
       "      <th>Fireplaces</th>\n",
       "      <th>GarageYrBlt</th>\n",
       "      <th>GarageCars</th>\n",
       "      <th>GarageArea</th>\n",
       "    </tr>\n",
       "  </thead>\n",
       "  <tbody>\n",
       "    <tr>\n",
       "      <th>YearBuilt</th>\n",
       "      <td>1.000000</td>\n",
       "      <td>0.592855</td>\n",
       "      <td>0.313659</td>\n",
       "      <td>0.391452</td>\n",
       "      <td>0.281986</td>\n",
       "      <td>0.199010</td>\n",
       "      <td>0.468271</td>\n",
       "      <td>0.095589</td>\n",
       "      <td>0.147716</td>\n",
       "      <td>0.775012</td>\n",
       "      <td>0.537850</td>\n",
       "      <td>0.478954</td>\n",
       "    </tr>\n",
       "    <tr>\n",
       "      <th>YearRemodAdd</th>\n",
       "      <td>0.592855</td>\n",
       "      <td>1.000000</td>\n",
       "      <td>0.178187</td>\n",
       "      <td>0.291066</td>\n",
       "      <td>0.240379</td>\n",
       "      <td>0.287389</td>\n",
       "      <td>0.439046</td>\n",
       "      <td>0.191740</td>\n",
       "      <td>0.112581</td>\n",
       "      <td>0.615723</td>\n",
       "      <td>0.420622</td>\n",
       "      <td>0.371600</td>\n",
       "    </tr>\n",
       "    <tr>\n",
       "      <th>MasVnrArea</th>\n",
       "      <td>0.313659</td>\n",
       "      <td>0.178187</td>\n",
       "      <td>1.000000</td>\n",
       "      <td>0.361005</td>\n",
       "      <td>0.340734</td>\n",
       "      <td>0.390527</td>\n",
       "      <td>0.275810</td>\n",
       "      <td>0.281308</td>\n",
       "      <td>0.250683</td>\n",
       "      <td>0.246489</td>\n",
       "      <td>0.362967</td>\n",
       "      <td>0.371416</td>\n",
       "    </tr>\n",
       "    <tr>\n",
       "      <th>TotalBsmtSF</th>\n",
       "      <td>0.391452</td>\n",
       "      <td>0.291066</td>\n",
       "      <td>0.361005</td>\n",
       "      <td>1.000000</td>\n",
       "      <td>0.819530</td>\n",
       "      <td>0.454868</td>\n",
       "      <td>0.323722</td>\n",
       "      <td>0.285573</td>\n",
       "      <td>0.339519</td>\n",
       "      <td>0.312769</td>\n",
       "      <td>0.434585</td>\n",
       "      <td>0.486665</td>\n",
       "    </tr>\n",
       "    <tr>\n",
       "      <th>1stFlrSF</th>\n",
       "      <td>0.281986</td>\n",
       "      <td>0.240379</td>\n",
       "      <td>0.340734</td>\n",
       "      <td>0.819530</td>\n",
       "      <td>1.000000</td>\n",
       "      <td>0.566024</td>\n",
       "      <td>0.380637</td>\n",
       "      <td>0.409516</td>\n",
       "      <td>0.410531</td>\n",
       "      <td>0.220422</td>\n",
       "      <td>0.439317</td>\n",
       "      <td>0.489782</td>\n",
       "    </tr>\n",
       "    <tr>\n",
       "      <th>GrLivArea</th>\n",
       "      <td>0.199010</td>\n",
       "      <td>0.287389</td>\n",
       "      <td>0.390527</td>\n",
       "      <td>0.454868</td>\n",
       "      <td>0.566024</td>\n",
       "      <td>1.000000</td>\n",
       "      <td>0.630012</td>\n",
       "      <td>0.825489</td>\n",
       "      <td>0.461679</td>\n",
       "      <td>0.213985</td>\n",
       "      <td>0.467247</td>\n",
       "      <td>0.468997</td>\n",
       "    </tr>\n",
       "    <tr>\n",
       "      <th>FullBath</th>\n",
       "      <td>0.468271</td>\n",
       "      <td>0.439046</td>\n",
       "      <td>0.275810</td>\n",
       "      <td>0.323722</td>\n",
       "      <td>0.380637</td>\n",
       "      <td>0.630012</td>\n",
       "      <td>1.000000</td>\n",
       "      <td>0.554784</td>\n",
       "      <td>0.243671</td>\n",
       "      <td>0.457084</td>\n",
       "      <td>0.469672</td>\n",
       "      <td>0.405656</td>\n",
       "    </tr>\n",
       "    <tr>\n",
       "      <th>TotRmsAbvGrd</th>\n",
       "      <td>0.095589</td>\n",
       "      <td>0.191740</td>\n",
       "      <td>0.281308</td>\n",
       "      <td>0.285573</td>\n",
       "      <td>0.409516</td>\n",
       "      <td>0.825489</td>\n",
       "      <td>0.554784</td>\n",
       "      <td>1.000000</td>\n",
       "      <td>0.326114</td>\n",
       "      <td>0.131438</td>\n",
       "      <td>0.362289</td>\n",
       "      <td>0.337822</td>\n",
       "    </tr>\n",
       "    <tr>\n",
       "      <th>Fireplaces</th>\n",
       "      <td>0.147716</td>\n",
       "      <td>0.112581</td>\n",
       "      <td>0.250683</td>\n",
       "      <td>0.339519</td>\n",
       "      <td>0.410531</td>\n",
       "      <td>0.461679</td>\n",
       "      <td>0.243671</td>\n",
       "      <td>0.326114</td>\n",
       "      <td>1.000000</td>\n",
       "      <td>0.045341</td>\n",
       "      <td>0.300789</td>\n",
       "      <td>0.269141</td>\n",
       "    </tr>\n",
       "    <tr>\n",
       "      <th>GarageYrBlt</th>\n",
       "      <td>0.775012</td>\n",
       "      <td>0.615723</td>\n",
       "      <td>0.246489</td>\n",
       "      <td>0.312769</td>\n",
       "      <td>0.220422</td>\n",
       "      <td>0.213985</td>\n",
       "      <td>0.457084</td>\n",
       "      <td>0.131438</td>\n",
       "      <td>0.045341</td>\n",
       "      <td>1.000000</td>\n",
       "      <td>0.487842</td>\n",
       "      <td>0.481105</td>\n",
       "    </tr>\n",
       "    <tr>\n",
       "      <th>GarageCars</th>\n",
       "      <td>0.537850</td>\n",
       "      <td>0.420622</td>\n",
       "      <td>0.362967</td>\n",
       "      <td>0.434585</td>\n",
       "      <td>0.439317</td>\n",
       "      <td>0.467247</td>\n",
       "      <td>0.469672</td>\n",
       "      <td>0.362289</td>\n",
       "      <td>0.300789</td>\n",
       "      <td>0.487842</td>\n",
       "      <td>1.000000</td>\n",
       "      <td>0.882475</td>\n",
       "    </tr>\n",
       "    <tr>\n",
       "      <th>GarageArea</th>\n",
       "      <td>0.478954</td>\n",
       "      <td>0.371600</td>\n",
       "      <td>0.371416</td>\n",
       "      <td>0.486665</td>\n",
       "      <td>0.489782</td>\n",
       "      <td>0.468997</td>\n",
       "      <td>0.405656</td>\n",
       "      <td>0.337822</td>\n",
       "      <td>0.269141</td>\n",
       "      <td>0.481105</td>\n",
       "      <td>0.882475</td>\n",
       "      <td>1.000000</td>\n",
       "    </tr>\n",
       "  </tbody>\n",
       "</table>\n",
       "</div>"
      ],
      "text/plain": [
       "              YearBuilt  YearRemodAdd  MasVnrArea  TotalBsmtSF  1stFlrSF  \\\n",
       "YearBuilt      1.000000      0.592855    0.313659     0.391452  0.281986   \n",
       "YearRemodAdd   0.592855      1.000000    0.178187     0.291066  0.240379   \n",
       "MasVnrArea     0.313659      0.178187    1.000000     0.361005  0.340734   \n",
       "TotalBsmtSF    0.391452      0.291066    0.361005     1.000000  0.819530   \n",
       "1stFlrSF       0.281986      0.240379    0.340734     0.819530  1.000000   \n",
       "GrLivArea      0.199010      0.287389    0.390527     0.454868  0.566024   \n",
       "FullBath       0.468271      0.439046    0.275810     0.323722  0.380637   \n",
       "TotRmsAbvGrd   0.095589      0.191740    0.281308     0.285573  0.409516   \n",
       "Fireplaces     0.147716      0.112581    0.250683     0.339519  0.410531   \n",
       "GarageYrBlt    0.775012      0.615723    0.246489     0.312769  0.220422   \n",
       "GarageCars     0.537850      0.420622    0.362967     0.434585  0.439317   \n",
       "GarageArea     0.478954      0.371600    0.371416     0.486665  0.489782   \n",
       "\n",
       "              GrLivArea  FullBath  TotRmsAbvGrd  Fireplaces  GarageYrBlt  \\\n",
       "YearBuilt      0.199010  0.468271      0.095589    0.147716     0.775012   \n",
       "YearRemodAdd   0.287389  0.439046      0.191740    0.112581     0.615723   \n",
       "MasVnrArea     0.390527  0.275810      0.281308    0.250683     0.246489   \n",
       "TotalBsmtSF    0.454868  0.323722      0.285573    0.339519     0.312769   \n",
       "1stFlrSF       0.566024  0.380637      0.409516    0.410531     0.220422   \n",
       "GrLivArea      1.000000  0.630012      0.825489    0.461679     0.213985   \n",
       "FullBath       0.630012  1.000000      0.554784    0.243671     0.457084   \n",
       "TotRmsAbvGrd   0.825489  0.554784      1.000000    0.326114     0.131438   \n",
       "Fireplaces     0.461679  0.243671      0.326114    1.000000     0.045341   \n",
       "GarageYrBlt    0.213985  0.457084      0.131438    0.045341     1.000000   \n",
       "GarageCars     0.467247  0.469672      0.362289    0.300789     0.487842   \n",
       "GarageArea     0.468997  0.405656      0.337822    0.269141     0.481105   \n",
       "\n",
       "              GarageCars  GarageArea  \n",
       "YearBuilt       0.537850    0.478954  \n",
       "YearRemodAdd    0.420622    0.371600  \n",
       "MasVnrArea      0.362967    0.371416  \n",
       "TotalBsmtSF     0.434585    0.486665  \n",
       "1stFlrSF        0.439317    0.489782  \n",
       "GrLivArea       0.467247    0.468997  \n",
       "FullBath        0.469672    0.405656  \n",
       "TotRmsAbvGrd    0.362289    0.337822  \n",
       "Fireplaces      0.300789    0.269141  \n",
       "GarageYrBlt     0.487842    0.481105  \n",
       "GarageCars      1.000000    0.882475  \n",
       "GarageArea      0.882475    1.000000  "
      ]
     },
     "execution_count": 23,
     "metadata": {},
     "output_type": "execute_result"
    }
   ],
   "source": [
    "# checking for multi-collinearity between high_cor_num_col\n",
    "train[high_cor_num_col].corr(method = 'pearson')"
   ]
  },
  {
   "cell_type": "code",
   "execution_count": 24,
   "metadata": {},
   "outputs": [
    {
     "data": {
      "text/plain": [
       "<matplotlib.axes._subplots.AxesSubplot at 0x20ca80157f0>"
      ]
     },
     "execution_count": 24,
     "metadata": {},
     "output_type": "execute_result"
    },
    {
     "data": {
      "image/png": "[encoded data removed]",
      "text/plain": [
       "<Figure size 1440x864 with 2 Axes>"
      ]
     },
     "metadata": {
      "needs_background": "light"
     },
     "output_type": "display_data"
    }
   ],
   "source": [
    "plt.figure(figsize=(20, 12))\n",
    "sns.heatmap(train[high_cor_num_col].corr(method = 'pearson'), annot=True)\n"
   ]
  },
  {
   "cell_type": "code",
   "execution_count": null,
   "metadata": {},
   "outputs": [],
   "source": []
  },
  {
   "cell_type": "markdown",
   "metadata": {},
   "source": [
    "#### Visual inspection of low-correlation numeric columns to identify non-linear relationships, if any"
   ]
  },
  {
   "cell_type": "code",
   "execution_count": 25,
   "metadata": {},
   "outputs": [
    {
     "data": {
      "text/plain": [
       "array(['Id', 'LotFrontage', 'LotArea', 'BsmtFinSF1', 'BsmtFinSF2',\n",
       "       'BsmtUnfSF', '2ndFlrSF', 'LowQualFinSF', 'BsmtFullBath',\n",
       "       'BsmtHalfBath', 'HalfBath', 'BedroomAbvGr', 'KitchenAbvGr',\n",
       "       'WoodDeckSF', 'OpenPorchSF', 'EnclosedPorch', '3SsnPorch',\n",
       "       'ScreenPorch', 'PoolArea', 'MiscVal', 'MoSold', 'YrSold'],\n",
       "      dtype=object)"
      ]
     },
     "execution_count": 25,
     "metadata": {},
     "output_type": "execute_result"
    }
   ],
   "source": [
    "low_pearson = train_num_corr['SalePrice'][np.absolute(train_num_corr['SalePrice'])< threshold]\n",
    "low_cor_num_col = low_pearson.index.values\n",
    "low_cor_num_col"
   ]
  },
  {
   "cell_type": "code",
   "execution_count": 26,
   "metadata": {
    "scrolled": true
   },
   "outputs": [],
   "source": [
    "# for item in low_cor_num_col:\n",
    "#     plt.subplots(figsize=(8, 6))\n",
    "#     plt.scatter(x = item, y = 'SalePrice', data=train)\n",
    "#     plt.xlabel(item)\n",
    "#     plt.ylabel('SalePrice')"
   ]
  },
  {
   "cell_type": "code",
   "execution_count": 27,
   "metadata": {},
   "outputs": [],
   "source": [
    "# no good non-linear relationship is visible"
   ]
  },
  {
   "cell_type": "markdown",
   "metadata": {},
   "source": [
    "### Analyzing Ordinal Variables"
   ]
  },
  {
   "cell_type": "code",
   "execution_count": 28,
   "metadata": {},
   "outputs": [],
   "source": [
    "train_ord_corr = ordinal_col + ['SalePrice']          # adding SalePrice to check correlation with that also\n",
    "train_ord_corr = train[train_ord_corr].corr(method = 'spearman')\n",
    "#train_ord_corr"
   ]
  },
  {
   "cell_type": "code",
   "execution_count": 29,
   "metadata": {},
   "outputs": [
    {
     "data": {
      "text/plain": [
       "OverallQual     0.809829\n",
       "ExterQual       0.684014\n",
       "BsmtQual        0.678026\n",
       "HeatingQC       0.491392\n",
       "KitchenQual     0.672849\n",
       "FireplaceQu     0.537602\n",
       "GarageFinish    0.633974\n",
       "SalePrice       1.000000\n",
       "Name: SalePrice, dtype: float64"
      ]
     },
     "execution_count": 29,
     "metadata": {},
     "output_type": "execute_result"
    }
   ],
   "source": [
    "# ordinal variables that have correlation of 0.5 or more with Sales Price\n",
    "high_spearman = train_ord_corr['SalePrice'][np.absolute(train_ord_corr['SalePrice'])>= threshold]\n",
    "high_spearman"
   ]
  },
  {
   "cell_type": "code",
   "execution_count": 30,
   "metadata": {},
   "outputs": [
    {
     "data": {
      "text/plain": [
       "array(['OverallQual', 'ExterQual', 'BsmtQual', 'HeatingQC', 'KitchenQual',\n",
       "       'FireplaceQu', 'GarageFinish'], dtype=object)"
      ]
     },
     "execution_count": 30,
     "metadata": {},
     "output_type": "execute_result"
    }
   ],
   "source": [
    "high_cor_ord_col = high_spearman.index.values\n",
    "index = np.argwhere(high_cor_ord_col == 'SalePrice')\n",
    "high_cor_ord_col = np.delete(high_cor_ord_col, index)   # removing 'SalePrice'\n",
    "high_cor_ord_col"
   ]
  },
  {
   "cell_type": "code",
   "execution_count": 31,
   "metadata": {},
   "outputs": [],
   "source": [
    "# ordinal variables that have correlation of less than 0.5 with Sales Price\n",
    "low_spearman = train_ord_corr['SalePrice'][np.absolute(train_ord_corr['SalePrice'])< threshold]\n"
   ]
  },
  {
   "cell_type": "code",
   "execution_count": 32,
   "metadata": {},
   "outputs": [
    {
     "data": {
      "text/plain": [
       "array(['LotShape', 'Utilities', 'LandSlope', 'OverallCond', 'ExterCond',\n",
       "       'BsmtCond', 'BsmtExposure', 'BsmtFinType1', 'BsmtFinType2',\n",
       "       'Electrical', 'Functional', 'GarageQual', 'GarageCond', 'PoolQC',\n",
       "       'Fence'], dtype=object)"
      ]
     },
     "execution_count": 32,
     "metadata": {},
     "output_type": "execute_result"
    }
   ],
   "source": [
    "low_cor_ord_col = low_spearman.index.values\n",
    "index = np.argwhere(low_cor_ord_col == 'SalePrice')\n",
    "low_cor_ord_col = np.delete(low_cor_ord_col, index)   # removing 'SalePrice'\n",
    "low_cor_ord_col"
   ]
  },
  {
   "cell_type": "markdown",
   "metadata": {},
   "source": [
    "#### Visual inspection of low-correlation ordinal columns to identify non-linear relationships, if any"
   ]
  },
  {
   "cell_type": "code",
   "execution_count": 33,
   "metadata": {},
   "outputs": [],
   "source": [
    "# for item in low_cor_ord_col:\n",
    "#     plt.subplots(figsize=(8, 6))\n",
    "#     sns.boxplot(x = item, y = 'SalePrice', data=train) \n",
    "    \n"
   ]
  },
  {
   "cell_type": "markdown",
   "metadata": {},
   "source": [
    "### Analyzing Nominal Variables"
   ]
  },
  {
   "cell_type": "code",
   "execution_count": 34,
   "metadata": {},
   "outputs": [],
   "source": [
    "high_cor_nom_var = ['MSSubClass', 'MSZoning', 'Neighborhood', 'Exterior1st', 'Exterior2nd', 'MasVnrType', 'Foundation', 'GarageType']"
   ]
  },
  {
   "cell_type": "code",
   "execution_count": 35,
   "metadata": {},
   "outputs": [],
   "source": [
    "train.MSSubClass = train.MSSubClass.replace({ 180:0, \\\n",
    "30:0, 45:0, 190:0, 50:0, 90:0, 85:0, 40:0, 160:0,70:1, 20:1, 75:1, \\\n",
    "80:1, 120:1, 60:1, 150:1}) # Grvl: Gravel, Pave: Paved, NA: No alley access\n",
    "\n",
    "train.MSZoning = train.MSZoning.replace( {\"A\": 0, \"C (all)\": 0, \"FV\":1, \"I\": 0, \"RH\": 0, \"RL\": 1, \"RP\": 1, \"RM\": 0} )\n",
    "\n",
    "train.Neighborhood = train.Neighborhood.replace({\"Blmngtn\":1, \"Blueste\":0, \"BrDale\":0, \\\n",
    "   \"BrkSide\":0, \"ClearCr\":2, \"CollgCr\":2, \"Crawfor\":2, \"Edwards\":0, \"Gilbert\":1, \\\n",
    "   \"IDOTRR\":0, \"MeadowV\":0, \"Mitchel\":1, \"NAmes\":0, \"NoRidge\":4, \"NPkVill\":0, \\\n",
    "   \"NridgHt\":4, \"NWAmes\":1, \"OldTown\":0, \"SWISU\":0, \"Sawyer\":0,\"SawyerW\":1, \\\n",
    "   \"Somerst\":2, \"StoneBr\":3, \"Timber\":2, \"Veenker\":2})\n",
    "\n",
    "train.Exterior1st = train.Exterior1st.replace({\\\n",
    "    \"AsbShng\":1, \"AsphShn\":1, \"BrkComm\":0, \"BrkFace\":2, \"CBlock\":1, \"CemntBd\":3, \\\n",
    "    \"HdBoard\":2, \"ImStucc\":4, \"MetalSd\":1, \"Other\":1, \"Plywood\": 2, \"PreCast\": 1, \\\n",
    "    \"Stone\": 4, \"Stucco\":1, \"VinylSd\":3, \"Wd Sdng\":1, \"WdShing\":1 })\n",
    "\n",
    "train.Exterior2nd = train.Exterior2nd.replace({\"AsbShng\":0, \"AsphShn\":0, \"Brk Cmn\":1,\\\n",
    "\"BrkFace\":1, \"CBlock\":0, \"CmentBd\":2, \"HdBoard\":1, \"ImStucc\":1,\\\n",
    "\"MetalSd\":0, \"Other\":4, \"Plywood\":1, \"PreCast\":1, \\\n",
    "\"Stone\":1, \"Stucco\":0, \"VinylSd\":2,\"Wd Sdng\":0, \"Wd Shng\":0 })\n",
    "\n",
    "train.MasVnrType = train.MasVnrType.fillna(\"NoMasonry\")\n",
    "train.MasVnrType = train.MasVnrType.replace({\\\n",
    "        \"BrkCmn\":0, \"BrkFace\":1, \"CBlock\": 1, \"None\":0, \"Stone\":2, \"NoMasonry\":0})\n",
    "\n",
    "train.Foundation = train.Foundation.replace({\"BrkTil\":0, \"CBlock\":0, \"PConc\":2, \"Slab\":0, \"Stone\":0, \"Wood\":1})\n",
    "\n",
    "train.GarageType = train.GarageType.fillna('NoGarage')\n",
    "train.GarageType = train.GarageType.replace({\\\n",
    "    \"2Types\":1, \"Attchd\":1, \"Basment\":1, \"BuiltIn\":2, \"CarPort\":0, \"Detchd\":0, \"NoGarage\": 0})\n"
   ]
  },
  {
   "cell_type": "code",
   "execution_count": 36,
   "metadata": {},
   "outputs": [],
   "source": [
    "train4 = train.copy()"
   ]
  },
  {
   "cell_type": "code",
   "execution_count": 37,
   "metadata": {},
   "outputs": [],
   "source": [
    "#train[high_cor_ord_var]"
   ]
  },
  {
   "cell_type": "markdown",
   "metadata": {},
   "source": [
    "### Data Set for Modelling"
   ]
  },
  {
   "cell_type": "code",
   "execution_count": 38,
   "metadata": {},
   "outputs": [],
   "source": [
    "imp_var = np.concatenate([high_cor_num_col, high_cor_ord_col, high_cor_nom_var, ['SalePrice']])"
   ]
  },
  {
   "cell_type": "code",
   "execution_count": 39,
   "metadata": {},
   "outputs": [],
   "source": [
    "train_red = train[imp_var]"
   ]
  },
  {
   "cell_type": "code",
   "execution_count": 40,
   "metadata": {},
   "outputs": [
    {
     "data": {
      "text/plain": [
       "Series([], dtype: int64)"
      ]
     },
     "execution_count": 40,
     "metadata": {},
     "output_type": "execute_result"
    }
   ],
   "source": [
    "train_red.isnull().sum(axis = 0)[train_red.isnull().sum(axis = 0) > 0]"
   ]
  },
  {
   "cell_type": "code",
   "execution_count": 51,
   "metadata": {},
   "outputs": [
    {
     "data": {
      "text/plain": [
       "(1460, 28)"
      ]
     },
     "execution_count": 51,
     "metadata": {},
     "output_type": "execute_result"
    }
   ],
   "source": [
    "train_red.shape"
   ]
  },
  {
   "cell_type": "markdown",
   "metadata": {},
   "source": [
    "train_red1 = train_red.copy()"
   ]
  },
  {
   "cell_type": "code",
   "execution_count": 42,
   "metadata": {},
   "outputs": [],
   "source": [
    "#train_red.to_csv('./data/train_red.csv')"
   ]
  },
  {
   "cell_type": "markdown",
   "metadata": {},
   "source": [
    "## Test Data"
   ]
  },
  {
   "cell_type": "code",
   "execution_count": 43,
   "metadata": {},
   "outputs": [],
   "source": [
    "test = pd.read_csv('./data/test.csv')\n",
    "test = test.drop('MiscFeature', axis = 1)\n",
    "test['MasVnrArea'] = test['MasVnrArea'].interpolate(method='linear', axis = 0)\n",
    "test['GarageYrBlt'] = test['GarageYrBlt'].interpolate(method='linear', axis = 0)"
   ]
  },
  {
   "cell_type": "code",
   "execution_count": 44,
   "metadata": {},
   "outputs": [
    {
     "data": {
      "text/html": [
       "<div>\n",
       "<style scoped>\n",
       "    .dataframe tbody tr th:only-of-type {\n",
       "        vertical-align: middle;\n",
       "    }\n",
       "\n",
       "    .dataframe tbody tr th {\n",
       "        vertical-align: top;\n",
       "    }\n",
       "\n",
       "    .dataframe thead th {\n",
       "        text-align: right;\n",
       "    }\n",
       "</style>\n",
       "<table border=\"1\" class=\"dataframe\">\n",
       "  <thead>\n",
       "    <tr style=\"text-align: right;\">\n",
       "      <th></th>\n",
       "      <th>Id</th>\n",
       "      <th>MSSubClass</th>\n",
       "      <th>MSZoning</th>\n",
       "      <th>LotFrontage</th>\n",
       "      <th>LotArea</th>\n",
       "      <th>Street</th>\n",
       "      <th>Alley</th>\n",
       "      <th>LotShape</th>\n",
       "      <th>LandContour</th>\n",
       "      <th>Utilities</th>\n",
       "      <th>...</th>\n",
       "      <th>3SsnPorch</th>\n",
       "      <th>ScreenPorch</th>\n",
       "      <th>PoolArea</th>\n",
       "      <th>PoolQC</th>\n",
       "      <th>Fence</th>\n",
       "      <th>MiscVal</th>\n",
       "      <th>MoSold</th>\n",
       "      <th>YrSold</th>\n",
       "      <th>SaleType</th>\n",
       "      <th>SaleCondition</th>\n",
       "    </tr>\n",
       "  </thead>\n",
       "  <tbody>\n",
       "    <tr>\n",
       "      <th>0</th>\n",
       "      <td>1461</td>\n",
       "      <td>20</td>\n",
       "      <td>RH</td>\n",
       "      <td>80.0</td>\n",
       "      <td>11622</td>\n",
       "      <td>Pave</td>\n",
       "      <td>NaN</td>\n",
       "      <td>Reg</td>\n",
       "      <td>Lvl</td>\n",
       "      <td>AllPub</td>\n",
       "      <td>...</td>\n",
       "      <td>0</td>\n",
       "      <td>120</td>\n",
       "      <td>0</td>\n",
       "      <td>NaN</td>\n",
       "      <td>MnPrv</td>\n",
       "      <td>0</td>\n",
       "      <td>6</td>\n",
       "      <td>2010</td>\n",
       "      <td>WD</td>\n",
       "      <td>Normal</td>\n",
       "    </tr>\n",
       "    <tr>\n",
       "      <th>1</th>\n",
       "      <td>1462</td>\n",
       "      <td>20</td>\n",
       "      <td>RL</td>\n",
       "      <td>81.0</td>\n",
       "      <td>14267</td>\n",
       "      <td>Pave</td>\n",
       "      <td>NaN</td>\n",
       "      <td>IR1</td>\n",
       "      <td>Lvl</td>\n",
       "      <td>AllPub</td>\n",
       "      <td>...</td>\n",
       "      <td>0</td>\n",
       "      <td>0</td>\n",
       "      <td>0</td>\n",
       "      <td>NaN</td>\n",
       "      <td>NaN</td>\n",
       "      <td>12500</td>\n",
       "      <td>6</td>\n",
       "      <td>2010</td>\n",
       "      <td>WD</td>\n",
       "      <td>Normal</td>\n",
       "    </tr>\n",
       "    <tr>\n",
       "      <th>2</th>\n",
       "      <td>1463</td>\n",
       "      <td>60</td>\n",
       "      <td>RL</td>\n",
       "      <td>74.0</td>\n",
       "      <td>13830</td>\n",
       "      <td>Pave</td>\n",
       "      <td>NaN</td>\n",
       "      <td>IR1</td>\n",
       "      <td>Lvl</td>\n",
       "      <td>AllPub</td>\n",
       "      <td>...</td>\n",
       "      <td>0</td>\n",
       "      <td>0</td>\n",
       "      <td>0</td>\n",
       "      <td>NaN</td>\n",
       "      <td>MnPrv</td>\n",
       "      <td>0</td>\n",
       "      <td>3</td>\n",
       "      <td>2010</td>\n",
       "      <td>WD</td>\n",
       "      <td>Normal</td>\n",
       "    </tr>\n",
       "    <tr>\n",
       "      <th>3</th>\n",
       "      <td>1464</td>\n",
       "      <td>60</td>\n",
       "      <td>RL</td>\n",
       "      <td>78.0</td>\n",
       "      <td>9978</td>\n",
       "      <td>Pave</td>\n",
       "      <td>NaN</td>\n",
       "      <td>IR1</td>\n",
       "      <td>Lvl</td>\n",
       "      <td>AllPub</td>\n",
       "      <td>...</td>\n",
       "      <td>0</td>\n",
       "      <td>0</td>\n",
       "      <td>0</td>\n",
       "      <td>NaN</td>\n",
       "      <td>NaN</td>\n",
       "      <td>0</td>\n",
       "      <td>6</td>\n",
       "      <td>2010</td>\n",
       "      <td>WD</td>\n",
       "      <td>Normal</td>\n",
       "    </tr>\n",
       "    <tr>\n",
       "      <th>4</th>\n",
       "      <td>1465</td>\n",
       "      <td>120</td>\n",
       "      <td>RL</td>\n",
       "      <td>43.0</td>\n",
       "      <td>5005</td>\n",
       "      <td>Pave</td>\n",
       "      <td>NaN</td>\n",
       "      <td>IR1</td>\n",
       "      <td>HLS</td>\n",
       "      <td>AllPub</td>\n",
       "      <td>...</td>\n",
       "      <td>0</td>\n",
       "      <td>144</td>\n",
       "      <td>0</td>\n",
       "      <td>NaN</td>\n",
       "      <td>NaN</td>\n",
       "      <td>0</td>\n",
       "      <td>1</td>\n",
       "      <td>2010</td>\n",
       "      <td>WD</td>\n",
       "      <td>Normal</td>\n",
       "    </tr>\n",
       "  </tbody>\n",
       "</table>\n",
       "<p>5 rows × 79 columns</p>\n",
       "</div>"
      ],
      "text/plain": [
       "     Id  MSSubClass MSZoning  LotFrontage  LotArea Street Alley LotShape  \\\n",
       "0  1461          20       RH         80.0    11622   Pave   NaN      Reg   \n",
       "1  1462          20       RL         81.0    14267   Pave   NaN      IR1   \n",
       "2  1463          60       RL         74.0    13830   Pave   NaN      IR1   \n",
       "3  1464          60       RL         78.0     9978   Pave   NaN      IR1   \n",
       "4  1465         120       RL         43.0     5005   Pave   NaN      IR1   \n",
       "\n",
       "  LandContour Utilities      ...       3SsnPorch ScreenPorch PoolArea PoolQC  \\\n",
       "0         Lvl    AllPub      ...               0         120        0    NaN   \n",
       "1         Lvl    AllPub      ...               0           0        0    NaN   \n",
       "2         Lvl    AllPub      ...               0           0        0    NaN   \n",
       "3         Lvl    AllPub      ...               0           0        0    NaN   \n",
       "4         HLS    AllPub      ...               0         144        0    NaN   \n",
       "\n",
       "   Fence MiscVal MoSold  YrSold  SaleType  SaleCondition  \n",
       "0  MnPrv       0      6    2010        WD         Normal  \n",
       "1    NaN   12500      6    2010        WD         Normal  \n",
       "2  MnPrv       0      3    2010        WD         Normal  \n",
       "3    NaN       0      6    2010        WD         Normal  \n",
       "4    NaN       0      1    2010        WD         Normal  \n",
       "\n",
       "[5 rows x 79 columns]"
      ]
     },
     "execution_count": 44,
     "metadata": {},
     "output_type": "execute_result"
    }
   ],
   "source": [
    "test.head()"
   ]
  },
  {
   "cell_type": "markdown",
   "metadata": {},
   "source": [
    "#### Replacing ordinal values in Test"
   ]
  },
  {
   "cell_type": "code",
   "execution_count": 45,
   "metadata": {},
   "outputs": [],
   "source": [
    "test.BsmtCond = test.BsmtCond.replace({\"Ex\": 5, 'Gd': 4, 'TA': 3, 'Fa': 2, 'Po': 1})\n",
    "test.BsmtCond = test.BsmtCond.fillna(0)\n",
    "test.BsmtExposure = test.BsmtExposure.replace({'Gd': 4, 'Av': 3, 'Mn': 2, 'No': 1})\n",
    "test.BsmtExposure = test.BsmtExposure.fillna(0)\n",
    "test.BsmtFinType1 = test.BsmtFinType1.replace({'GLQ': 6, 'ALQ': 5, 'BLQ': 4, 'Rec': 3, 'LwQ': 2, 'Unf': 1})\n",
    "test.BsmtFinType1 = test.BsmtFinType1.fillna(0)\n",
    "test.BsmtFinType2 = test.BsmtFinType2.replace({'GLQ': 6, 'ALQ': 5, 'BLQ': 4, 'Rec': 3, 'LwQ': 2, 'Unf': 1})\n",
    "test.BsmtFinType2 = test.BsmtFinType2.fillna(0)\n",
    "test.BsmtQual = test.BsmtQual.replace({'Ex': 5, 'Gd': 4, 'TA': 3, 'Fa': 2, 'Po': 1})\n",
    "test.BsmtQual = test.BsmtQual.fillna(0)\n",
    "test.Electrical = test.Electrical.replace({'SBrkr': 4, 'FuseA': 3, 'FuseF': 2, 'FuseP': 1, 'Mix': 0})\n",
    "test.ExterCond = test.ExterCond.replace({'Ex': 5, 'Gd': 4, 'TA': 3, 'Fa': 2, 'Po': 1})\n",
    "test.ExterCond = test.ExterCond.fillna(0)\n",
    "test.ExterQual = test.ExterQual.replace({'Ex': 5, 'Gd': 4, 'TA': 3, 'Fa': 2, 'Po': 1})\n",
    "test.ExterQual = test.ExterQual.fillna(0)\n",
    "test.Fence = test.Fence.replace({'GdPrv': 4, 'MnPrv': 3, 'GdWo': 2, 'MnWw': 1})\n",
    "test.Fence = test.Fence.fillna(0)\n",
    "test.FireplaceQu = test.FireplaceQu.replace({'Ex': 5, 'Gd': 4, 'TA': 3, 'Fa': 2, 'Po': 1})\n",
    "test.FireplaceQu = test.FireplaceQu.fillna(0)\n",
    "test.Functional = test.Functional.replace({'Typ': 7, 'Min1': 6, 'Min2': 5, 'Mod': 4, 'Maj1': 3, 'Maj2': 2, 'Sev': 1, 'Sal': 0})\n",
    "test.GarageCond = test.GarageCond.replace({'Ex': 5, 'Gd': 4, 'TA': 3, 'Fa': 2, 'Po': 1})\n",
    "test.GarageCond = test.GarageCond.fillna(0)\n",
    "test.GarageFinish = test.GarageFinish.replace({'Fin': 3, 'RFn': 2, 'Unf': 1})\n",
    "test.GarageFinish = test.GarageFinish.fillna(0)\n",
    "test.GarageQual = test.GarageQual.replace({'Ex': 5, 'Gd': 4, 'TA': 3, 'Fa': 2, 'Po': 1})\n",
    "test.GarageQual = test.GarageQual.fillna(0)\n",
    "test.HeatingQC = test.HeatingQC.replace({'Ex': 5, 'Gd': 4, 'TA': 3, 'Fa': 2, 'Po': 1})\n",
    "test.HeatingQC = test.HeatingQC.fillna(0)\n",
    "test.KitchenQual = test.KitchenQual.replace({'Ex': 5, 'Gd': 4, 'TA': 3, 'Fa': 2, 'Po': 1})\n",
    "test.KitchenQual = test.KitchenQual.fillna(0)\n",
    "test.LandSlope = test.LandSlope.replace({'Gtl': 3, 'Mod': 2, 'Sev': 1})\n",
    "test.LandSlope = test.LandSlope.fillna(0)\n",
    "test.LotShape = test.LotShape.replace({'Reg': 4, 'IR1': 3, 'IR2': 2, 'IR3': 1})\n",
    "test.LotShape = test.LotShape.fillna(0)\n",
    "test.PoolQC = test.PoolQC.replace({'Ex': 4, 'Gd': 3, 'TA': 2, 'Fa': 1})\n",
    "test.PoolQC = test.PoolQC.fillna(0)\n",
    "test.Utilities = test.Utilities.replace({'AllPub': 4, 'NoSewr': 3, 'NoSeWa': 2, ' ELO': 1})"
   ]
  },
  {
   "cell_type": "markdown",
   "metadata": {},
   "source": [
    "#### Nominal Variables"
   ]
  },
  {
   "cell_type": "markdown",
   "metadata": {},
   "source": [
    "###### Replacing values of high-correlation variables"
   ]
  },
  {
   "cell_type": "code",
   "execution_count": 46,
   "metadata": {},
   "outputs": [],
   "source": [
    "test.MSSubClass = test.MSSubClass.replace({ 180:0, \\\n",
    "30:0, 45:0, 190:0, 50:0, 90:0, 85:0, 40:0, 160:0,70:1, 20:1, 75:1, \\\n",
    "80:1, 120:1, 60:1, 150:1})\n",
    "\n",
    "test.MSZoning = test.MSZoning.replace( {\"A\": 0, \"C (all)\": 0, \"FV\":1, \"I\": 0, \"RH\": 0, \"RL\": 1, \"RP\": 1, \"RM\": 0} )\n",
    "\n",
    "test.Neighborhood = test.Neighborhood.replace({\"Blmngtn\":1, \"Blueste\":0, \"BrDale\":0, \\\n",
    "   \"BrkSide\":0, \"ClearCr\":2, \"CollgCr\":2, \"Crawfor\":2, \"Edwards\":0, \"Gilbert\":1, \\\n",
    "   \"IDOTRR\":0, \"MeadowV\":0, \"Mitchel\":1, \"NAmes\":0, \"NoRidge\":4, \"NPkVill\":0, \\\n",
    "   \"NridgHt\":4, \"NWAmes\":1, \"OldTown\":0, \"SWISU\":0, \"Sawyer\":0,\"SawyerW\":1, \\\n",
    "   \"Somerst\":2, \"StoneBr\":3, \"Timber\":2, \"Veenker\":2})\n",
    "\n",
    "test.Exterior1st = test.Exterior1st.replace({\\\n",
    "    \"AsbShng\":1, \"AsphShn\":1, \"BrkComm\":0, \"BrkFace\":2, \"CBlock\":1, \"CemntBd\":3, \\\n",
    "    \"HdBoard\":2, \"ImStucc\":4, \"MetalSd\":1, \"Other\":1, \"Plywood\": 2, \"PreCast\": 1, \\\n",
    "    \"Stone\": 4, \"Stucco\":1, \"VinylSd\":3, \"Wd Sdng\":1, \"WdShing\":1 })\n",
    "\n",
    "test.Exterior2nd = test.Exterior2nd.replace({\"AsbShng\":0, \"AsphShn\":0, \"Brk Cmn\":1,\\\n",
    "\"BrkFace\":1, \"CBlock\":0, \"CmentBd\":2, \"HdBoard\":1, \"ImStucc\":1,\\\n",
    "\"MetalSd\":0, \"Other\":4, \"Plywood\":1, \"PreCast\":1, \\\n",
    "\"Stone\":1, \"Stucco\":0, \"VinylSd\":2,\"Wd Sdng\":0, \"Wd Shng\":0 })\n",
    "\n",
    "test.MasVnrType = test.MasVnrType.fillna(\"NoMasonry\")\n",
    "test.MasVnrType = test.MasVnrType.replace({\\\n",
    "        \"BrkCmn\":0, \"BrkFace\":1, \"CBlock\": 1, \"None\":0, \"Stone\":2, \"NoMasonry\":0})\n",
    "\n",
    "test.Foundation = test.Foundation.replace({\"BrkTil\":0, \"CBlock\":0, \"PConc\":2, \"Slab\":0, \"Stone\":0, \"Wood\":1})\n",
    "\n",
    "test.GarageType = test.GarageType.fillna('NoGarage')\n",
    "test.GarageType = test.GarageType.replace({\\\n",
    "    \"2Types\":1, \"Attchd\":1, \"Basment\":1, \"BuiltIn\":2, \"CarPort\":0, \"Detchd\":0, \"NoGarage\": 0})\n"
   ]
  },
  {
   "cell_type": "code",
   "execution_count": 47,
   "metadata": {},
   "outputs": [],
   "source": [
    "test_red = test[np.concatenate([high_cor_num_col, high_cor_ord_col, high_cor_nom_var])]"
   ]
  },
  {
   "cell_type": "code",
   "execution_count": 48,
   "metadata": {},
   "outputs": [
    {
     "data": {
      "text/plain": [
       "TotalBsmtSF    1\n",
       "GarageCars     1\n",
       "GarageArea     1\n",
       "MSZoning       4\n",
       "Exterior1st    1\n",
       "Exterior2nd    1\n",
       "dtype: int64"
      ]
     },
     "execution_count": 48,
     "metadata": {},
     "output_type": "execute_result"
    }
   ],
   "source": [
    "test_red.isnull().sum(axis = 0)[test_red.isnull().sum(axis = 0) > 0]"
   ]
  },
  {
   "cell_type": "code",
   "execution_count": 49,
   "metadata": {},
   "outputs": [],
   "source": [
    "# numeric_col = ['TotalBsmtSF','GarageCars', 'GarageArea']\n",
    "# nominal_col = ['MSZoning', 'Exterior1st', 'Exterior2nd']"
   ]
  },
  {
   "cell_type": "code",
   "execution_count": 50,
   "metadata": {},
   "outputs": [],
   "source": [
    "#test_red.to_csv('./data/test_red.csv')"
   ]
  }
 ],
 "metadata": {
  "kernelspec": {
   "display_name": "Python 3",
   "language": "python",
   "name": "python3"
  },
  "language_info": {
   "codemirror_mode": {
    "name": "ipython",
    "version": 3
   },
   "file_extension": ".py",
   "mimetype": "text/x-python",
   "name": "python",
   "nbconvert_exporter": "python",
   "pygments_lexer": "ipython3",
   "version": "3.7.1"
  }
 },
 "nbformat": 4,
 "nbformat_minor": 2
}
